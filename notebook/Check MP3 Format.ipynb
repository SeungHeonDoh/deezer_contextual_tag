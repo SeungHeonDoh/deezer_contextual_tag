{
 "cells": [
  {
   "cell_type": "code",
   "execution_count": 7,
   "id": "f43254e7",
   "metadata": {},
   "outputs": [],
   "source": [
    "import os\n",
    "import json\n",
    "import pandas as pd\n",
    "import requests"
   ]
  },
  {
   "cell_type": "code",
   "execution_count": 8,
   "id": "a9abe0c5",
   "metadata": {},
   "outputs": [],
   "source": [
    "import youtube_dl\n",
    "def audio_crawl(url, audio_out_dir):\n",
    "    ydl_opts = {\n",
    "        'format': 'bestaudio/best',\n",
    "        'extractaudio' : True,      # only keep the audio\n",
    "        'audioformat' : 'mp3',      # convert to mp3\n",
    "        'writeinfojson': False,\n",
    "        'noplaylist': True,\n",
    "        'postprocessors': [{\n",
    "            'key': 'FFmpegExtractAudio',\n",
    "            'preferredcodec': 'mp3',\n",
    "            'preferredquality': '192',\n",
    "        }],\n",
    "        'postprocessor_args': [\n",
    "            '-ar', '44100'\n",
    "        ],\n",
    "        'outtmpl': audio_out_dir\n",
    "    }\n",
    "    with youtube_dl.YoutubeDL(ydl_opts) as ydl:\n",
    "        ydl.extract_info(url, download = True)"
   ]
  },
  {
   "cell_type": "code",
   "execution_count": 10,
   "id": "f672ca55",
   "metadata": {},
   "outputs": [],
   "source": [
    "id_to_url = json.load(open(\"../dataset/id_to_url.json\", 'r'))"
   ]
  },
  {
   "cell_type": "code",
   "execution_count": 17,
   "id": "cf3b3ac7",
   "metadata": {},
   "outputs": [],
   "source": [
    "save_dir = \"../dataset/audio_crawl\""
   ]
  },
  {
   "cell_type": "code",
   "execution_count": 18,
   "id": "23e38068",
   "metadata": {},
   "outputs": [
    {
     "name": "stdout",
     "output_type": "stream",
     "text": [
      "79472617 https://www.youtube.com/watch?v=NMg2mhqJR8g\n",
      "[youtube] NMg2mhqJR8g: Downloading webpage\n",
      "[youtube] Downloading just video NMg2mhqJR8g because of --no-playlist\n",
      "[youtube] NMg2mhqJR8g: Downloading player dfe7ea14\n",
      "[youtube] NMg2mhqJR8g: Downloading MPD manifest\n",
      "[download] Destination: ../dataset/audio_crawl/79472617.\n",
      "[download] 100% of 3.31MiB in 00:4269KiB/s ETA 00:008\n",
      "[ffmpeg] Destination: ../dataset/audio_crawl/79472617.mp3\n",
      "Deleting original file ../dataset/audio_crawl/79472617. (pass -k to keep)\n"
     ]
    }
   ],
   "source": [
    "for _id, item in id_to_url.items():\n",
    "    print(_id, item['url'])\n",
    "    audio_crawl(url=item['url'], audio_out_dir=os.path.join(save_dir, str(_id) + \".\"))\n",
    "    break"
   ]
  },
  {
   "cell_type": "code",
   "execution_count": 21,
   "id": "2b6f0cad",
   "metadata": {},
   "outputs": [
    {
     "name": "stderr",
     "output_type": "stream",
     "text": [
      "Bit depth unavailable for ../dataset/audio_crawl/79472617.mp3\n"
     ]
    },
    {
     "data": {
      "text/plain": [
       "{'channels': 2,\n",
       " 'sample_rate': 44100.0,\n",
       " 'bitdepth': None,\n",
       " 'bitrate': 192000.0,\n",
       " 'duration': 207.327007,\n",
       " 'num_samples': 9143121,\n",
       " 'encoding': 'MPEG audio (layer I, II or III)',\n",
       " 'silent': False}"
      ]
     },
     "execution_count": 21,
     "metadata": {},
     "output_type": "execute_result"
    }
   ],
   "source": [
    "import sox\n",
    "sox.file_info.info(\"../dataset/audio_crawl/79472617.mp3\")"
   ]
  },
  {
   "cell_type": "code",
   "execution_count": null,
   "id": "e9e33533",
   "metadata": {},
   "outputs": [],
   "source": []
  }
 ],
 "metadata": {
  "kernelspec": {
   "display_name": "Python 3 (ipykernel)",
   "language": "python",
   "name": "python3"
  },
  "language_info": {
   "codemirror_mode": {
    "name": "ipython",
    "version": 3
   },
   "file_extension": ".py",
   "mimetype": "text/x-python",
   "name": "python",
   "nbconvert_exporter": "python",
   "pygments_lexer": "ipython3",
   "version": "3.8.10"
  }
 },
 "nbformat": 4,
 "nbformat_minor": 5
}
